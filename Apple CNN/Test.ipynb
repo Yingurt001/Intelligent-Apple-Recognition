{
 "cells": [
  {
   "cell_type": "code",
   "execution_count": null,
   "id": "d70ad702",
   "metadata": {},
   "outputs": [],
   "source": [
    "import tensorflow as tf\n",
    "import numpy as np\n",
    "import pathlib\n",
    "import matplotlib.pyplot as plt\n",
    "from tensorflow.keras.preprocessing import image\n",
    "\n",
    "# ===============================\n",
    "# 1. 加载模型\n",
    "# ===============================\n",
    "model_path = \"/Users/zhangying/Desktop/Apple/fruit_classifier_effnetb0.h5\"  # 训练好的多分类模型\n",
    "model = tf.keras.models.load_model(model_path)\n",
    "print(f\"✅ 模型已加载：{model_path}\")\n",
    "\n",
    "# 类别名（需和训练时一致）\n",
    "class_names = ['Apple', 'Carambola', 'Pear', 'Plum', 'Tomatoes']\n",
    "\n",
    "# ===============================\n",
    "# 2. 测试文件夹路径\n",
    "# ===============================\n",
    "test_dir = pathlib.Path(\"/Users/zhangying/Desktop/Apple/Test\")  # 你的测试集路径\n",
    "image_paths = sorted(test_dir.glob(\"*.*\"), key=lambda p: p.name.lower())\n",
    "\n",
    "# ===============================\n",
    "# 3. 批量预测 + 可视化\n",
    "# ===============================\n",
    "cols = 4  # 每行显示4张\n",
    "rows = (len(image_paths) + cols - 1) // cols\n",
    "plt.figure(figsize=(4 * cols, 4 * rows))\n",
    "\n",
    "for i, img_path in enumerate(image_paths):\n",
    "    try:\n",
    "        # 加载图片\n",
    "        img = image.load_img(img_path, target_size=(224, 224))\n",
    "        img_array = image.img_to_array(img)\n",
    "        img_array = np.expand_dims(img_array, axis=0)\n",
    "        img_array = tf.keras.applications.efficientnet.preprocess_input(img_array)\n",
    "\n",
    "        # 模型预测\n",
    "        preds = model.predict(img_array, verbose=0)[0]\n",
    "        pred_idx = np.argmax(preds)\n",
    "        pred_class = class_names[pred_idx]\n",
    "        confidence = preds[pred_idx]\n",
    "\n",
    "        # 标签颜色（苹果绿色，其他红色）\n",
    "        color = \"green\" if pred_class == \"Apple\" else \"red\"\n",
    "        label = f\"{pred_class} ({confidence:.1%})\"\n",
    "\n",
    "        # 显示图片\n",
    "        plt.subplot(rows, cols, i + 1)\n",
    "        plt.imshow(image.load_img(img_path))\n",
    "        plt.title(label, color=color, fontsize=10)\n",
    "        plt.axis(\"off\")\n",
    "\n",
    "    except Exception as e:\n",
    "        print(f\"跳过文件 {img_path.name}，原因: {e}\")\n",
    "\n",
    "plt.tight_layout()\n",
    "plt.show()\n"
   ]
  },
  {
   "cell_type": "code",
   "execution_count": 2,
   "id": "bdd3110a",
   "metadata": {},
   "outputs": [
    {
     "name": "stdout",
     "output_type": "stream",
     "text": [
      "测试集路径: /Users/zhangying/Desktop/Apple/Test\n",
      "测试集图片数量: 20706\n"
     ]
    }
   ],
   "source": [
    "print(f\"测试集路径: {test_dir}\")\n",
    "print(f\"测试集图片数量: {len(image_paths)}\")\n"
   ]
  },
  {
   "cell_type": "code",
   "execution_count": null,
   "id": "0f160a0b",
   "metadata": {},
   "outputs": [],
   "source": []
  }
 ],
 "metadata": {
  "kernelspec": {
   "display_name": "pytorch2.2",
   "language": "python",
   "name": "python3"
  },
  "language_info": {
   "codemirror_mode": {
    "name": "ipython",
    "version": 3
   },
   "file_extension": ".py",
   "mimetype": "text/x-python",
   "name": "python",
   "nbconvert_exporter": "python",
   "pygments_lexer": "ipython3",
   "version": "3.8.19"
  }
 },
 "nbformat": 4,
 "nbformat_minor": 5
}
