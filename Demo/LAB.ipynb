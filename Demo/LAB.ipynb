{
 "cells": [
  {
   "cell_type": "code",
   "execution_count": null,
   "id": "9c75e92e",
   "metadata": {},
   "outputs": [],
   "source": [
    "import cv2\n",
    "\n",
    "def show_color_info(image_path):\n",
    "    img = cv2.imread(image_path)  # 读取图像\n",
    "    hsv = cv2.cvtColor(img, cv2.COLOR_BGR2HSV)  # 转换为 HSV\n",
    "    lab = cv2.cvtColor(img, cv2.COLOR_BGR2Lab)  # 转换为 LAB\n",
    "\n",
    "    # 鼠标点击事件处理\n",
    "    def on_mouse(event, x, y, flags, param):\n",
    "        if event == cv2.EVENT_LBUTTONDOWN:  # 左键点击\n",
    "            bgr = img[y, x]\n",
    "            h, s, v = hsv[y, x]\n",
    "            l, a, b = lab[y, x]\n",
    "\n",
    "            print(f\"🖱️ 点击位置: ({x}, {y})\")\n",
    "            print(f\"🎨 BGR: {bgr}\")\n",
    "            print(f\"🌈 HSV: (H={h}, S={s}, V={v})\")\n",
    "            print(f\"📘 LAB: (L={l}, A={a}, B={b})\")\n",
    "            print(\"-\" * 40)\n",
    "\n",
    "    # 显示窗口并绑定点击回调\n",
    "    cv2.imshow(\"🖼️ Click to view color\", img)\n",
    "    cv2.setMouseCallback(\"🖼️ Click to view color\", on_mouse)\n",
    "\n",
    "    print(\"💡 请点击图像中的红苹果区域，查看颜色值（控制台输出）\")\n",
    "    cv2.waitKey(0)\n",
    "    cv2.destroyAllWindows()\n",
    "\n",
    "# 示例调用（你可以替换成自己的图片路径）\n",
    "show_color_info(\"Attachment_2/1_processed.jpg\")\n"
   ]
  },
  {
   "cell_type": "code",
   "execution_count": null,
   "id": "50d1e469",
   "metadata": {},
   "outputs": [],
   "source": []
  }
 ],
 "metadata": {
  "kernelspec": {
   "display_name": "pytorch2.2",
   "language": "python",
   "name": "python3"
  },
  "language_info": {
   "codemirror_mode": {
    "name": "ipython",
    "version": 3
   },
   "file_extension": ".py",
   "mimetype": "text/x-python",
   "name": "python",
   "nbconvert_exporter": "python",
   "pygments_lexer": "ipython3",
   "version": "3.8.19"
  }
 },
 "nbformat": 4,
 "nbformat_minor": 5
}
