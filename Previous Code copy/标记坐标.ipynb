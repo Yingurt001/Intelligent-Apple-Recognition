{
 "cells": [
  {
   "cell_type": "code",
   "execution_count": 2,
   "metadata": {},
   "outputs": [
    {
     "ename": "SyntaxError",
     "evalue": "invalid syntax (3110994266.py, line 63)",
     "output_type": "error",
     "traceback": [
      "\u001b[0;36m  Cell \u001b[0;32mIn[2], line 63\u001b[0;36m\u001b[0m\n\u001b[0;31m    for i in range(1, 201:  # 假设图像编号从1到200\u001b[0m\n\u001b[0m                         ^\u001b[0m\n\u001b[0;31mSyntaxError\u001b[0m\u001b[0;31m:\u001b[0m invalid syntax\n"
     ]
    }
   ],
   "source": [
    "#这段代码实现的是对苹果颜色的识别并且标记坐标，注意，还不是最理想的模型\n",
    "#我想要的最后还没有导出为一个文件夹\n",
    "#而且坐标也不是完全正确，我现在还需要调整阈值，然后让更多人红色能够被识别，同时红色之间还要能够被区分\n",
    "#我可能还需要从网上去找一些源代码\n",
    "import cv2\n",
    "import numpy as np\n",
    "import matplotlib.pyplot as plt\n",
    "\n",
    "# 读取图片\n",
    "def ReadImg(image_path):\n",
    "    img = cv2.imread(image_path, 1)\n",
    "    return img\n",
    "\n",
    "# 高斯滤波\n",
    "def GausBlur(src):\n",
    "    dst = cv2.GaussianBlur(src, (5, 5), 1.5)\n",
    "    return dst\n",
    "\n",
    "# 开运算（替代 open_mor）\n",
    "def open_mor(img):\n",
    "    kernel = np.ones((5, 5), np.uint8)\n",
    "    result = cv2.morphologyEx(img, cv2.MORPH_OPEN, kernel)\n",
    "    return result\n",
    "\n",
    "# 红色对象检测\n",
    "def detect_red_objects(src):\n",
    "    # 设定红色阈值范围\n",
    "    lower_red = np.array([0, 0, 100])\n",
    "    upper_red = np.array([100, 100, 255])\n",
    "\n",
    "    # 根据阈值构建掩模\n",
    "    mask = cv2.inRange(src, lower_red, upper_red)\n",
    "\n",
    "    # 使用掩模提取红色对象\n",
    "    red_objects = cv2.bitwise_and(src, src, mask=mask)\n",
    "\n",
    "    return red_objects\n",
    "\n",
    "# 轮廓拟合\n",
    "def draw_shape(open_img, src):\n",
    "    contours, hierarchy = cv2.findContours(open_img, cv2.RETR_EXTERNAL, cv2.CHAIN_APPROX_SIMPLE)\n",
    "    apple_count = 0\n",
    "    for cnt in contours:\n",
    "        area = cv2.contourArea(cnt)\n",
    "        if area > 50:  # 假设红色对象的最小面积为100\n",
    "            # 获取圆心和半径\n",
    "            (x, y), radius = cv2.minEnclosingCircle(cnt)\n",
    "            center = (int(x), int(y))\n",
    "            radius = int(radius)\n",
    "\n",
    "            # 绘制圆形\n",
    "            cv2.circle(src, center, radius, (0, 0, 255), 2)\n",
    "\n",
    "            # 绘制坐标\n",
    "            cv2.putText(src, f'({center[0]}, {center[1]})', (center[0] - 30, center[1] - 20),\n",
    "                        cv2.FONT_HERSHEY_SIMPLEX, 0.5, (255, 255, 255), 2, cv2.LINE_AA)\n",
    "            apple_count += 1\n",
    "            #打印坐标\n",
    "            print('苹果坐标:', x, y)\n",
    "    return src, apple_count\n",
    "\n",
    "# 处理所有图像\n",
    "for i in range(1, 201):  # 假设图像编号从1到200\n",
    "    image_path = f'Attachment_2/{i}_processed.jpg'\n",
    "    src = ReadImg(image_path)\n",
    "    gaus_img = GausBlur(src)\n",
    "    red_objects_img = detect_red_objects(gaus_img)\n",
    "    gray_img = cv2.cvtColor(red_objects_img, cv2.COLOR_BGR2GRAY)\n",
    "    _, thres_img = cv2.threshold(gray_img, 1, 255, cv2.THRESH_BINARY)\n",
    "    open_img = open_mor(thres_img)\n",
    "    result_img, apple_count = draw_shape(open_img, src)\n",
    "\n",
    "    # 显示图像\n",
    "    plt.imshow(cv2.cvtColor(result_img, cv2.COLOR_BGR2RGB))\n",
    "    plt.title(f'Processed Image {i}, Red Objects Count: {apple_count}')\n",
    "    plt.show()"
   ]
  },
  {
   "cell_type": "code",
   "execution_count": null,
   "metadata": {},
   "outputs": [],
   "source": []
  }
 ],
 "metadata": {
  "kernelspec": {
   "display_name": "base",
   "language": "python",
   "name": "python3"
  },
  "language_info": {
   "codemirror_mode": {
    "name": "ipython",
    "version": 3
   },
   "file_extension": ".py",
   "mimetype": "text/x-python",
   "name": "python",
   "nbconvert_exporter": "python",
   "pygments_lexer": "ipython3",
   "version": "3.11.5"
  }
 },
 "nbformat": 4,
 "nbformat_minor": 2
}
